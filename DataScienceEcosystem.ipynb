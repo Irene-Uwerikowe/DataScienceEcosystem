{
  "nbformat": 4,
  "nbformat_minor": 0,
  "metadata": {
    "colab": {
      "provenance": []
    },
    "kernelspec": {
      "name": "python3",
      "display_name": "Python 3"
    },
    "language_info": {
      "name": "python"
    }
  },
  "cells": [
    {
      "cell_type": "markdown",
      "source": [
        "# Data Science Tools and Ecosystem"
      ],
      "metadata": {
        "id": "s5OhhBiuKtmL"
      }
    },
    {
      "cell_type": "markdown",
      "source": [
        "## In this notebook, Data Science Tools and Ecosystem are summarized"
      ],
      "metadata": {
        "id": "jY2eOlopLUtb"
      }
    },
    {
      "cell_type": "markdown",
      "source": [
        "### **Objectives:**\n",
        "- List popular languages in Data Science\n",
        "- List some Data Science Tools\n",
        "- List some common libraries in Data Science \n"
      ],
      "metadata": {
        "id": "BxClVrDCyqUN"
      }
    },
    {
      "cell_type": "markdown",
      "source": [
        "### Some of the popular languages that Data Scientist use are:\n",
        "1. Python\n",
        "2. R\n",
        "3. Scala\n",
        "4. Julia\n",
        "5. Java "
      ],
      "metadata": {
        "id": "IDAvZh-nLqUj"
      }
    },
    {
      "cell_type": "markdown",
      "source": [
        "### Some of the commonly used libraries used by Data Scientists include:\n",
        "- scikit-learn\n",
        "-seaborn\n",
        "-matplotlib\n",
        "-plotly\n",
        "- pandas\n"
      ],
      "metadata": {
        "id": "lVCSuO0zMctY"
      }
    },
    {
      "cell_type": "markdown",
      "source": [
        "|Data Science Tools|\n",
        "|----------|\n",
        "|JupyterLab|\n",
        "|JupyterNotebook|\n",
        "|RStudio|"
      ],
      "metadata": {
        "id": "E-cIBaDPO58O"
      }
    },
    {
      "cell_type": "markdown",
      "source": [
        "### Below are a few examples of evaluating arithmetic expressions in Python"
      ],
      "metadata": {
        "id": "B7m_tbndxMwj"
      }
    },
    {
      "cell_type": "code",
      "source": [
        "#This is a simple arithmetic expression to multiply then add integer\n",
        "(3*4)+5"
      ],
      "metadata": {
        "colab": {
          "base_uri": "https://localhost:8080/"
        },
        "id": "GQ4fGMzExb1q",
        "outputId": "37ebc69c-6163-4185-802a-f87101956723"
      },
      "execution_count": 1,
      "outputs": [
        {
          "output_type": "execute_result",
          "data": {
            "text/plain": [
              "17"
            ]
          },
          "metadata": {},
          "execution_count": 1
        }
      ]
    },
    {
      "cell_type": "code",
      "source": [
        "# This will convert 200 minutes to hours by diving by 60\n",
        "200/60"
      ],
      "metadata": {
        "colab": {
          "base_uri": "https://localhost:8080/"
        },
        "id": "OvpnZLb_yKty",
        "outputId": "80018f14-7b90-4b84-93af-971c1b7e5282"
      },
      "execution_count": 2,
      "outputs": [
        {
          "output_type": "execute_result",
          "data": {
            "text/plain": [
              "3.3333333333333335"
            ]
          },
          "metadata": {},
          "execution_count": 2
        }
      ]
    },
    {
      "cell_type": "markdown",
      "source": [],
      "metadata": {
        "id": "KxfCchvZzopM"
      }
    },
    {
      "cell_type": "markdown",
      "source": [
        "## Author:\n",
        "Irene Uwerikowe"
      ],
      "metadata": {
        "id": "wioh2Jqzzo_t"
      }
    }
  ]
}